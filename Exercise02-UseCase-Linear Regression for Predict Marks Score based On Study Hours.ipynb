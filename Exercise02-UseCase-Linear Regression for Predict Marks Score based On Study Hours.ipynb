{
 "cells": [
  {
   "cell_type": "code",
   "execution_count": 4,
   "metadata": {},
   "outputs": [
    {
     "name": "stdout",
     "output_type": "stream",
     "text": [
      "-----------Exercise02-UseCase-Linear Regression for Predict Marks Score based On Study Hours-----------\n",
      "-------------------------------------------------------------------------------------------------------\n"
     ]
    },
    {
     "data": {
      "text/plain": [
       "\"\\nIn this article we will briefly study what linear regression is and \\nhow it can be implemented using the Python Scikit-Learn library, \\nwhich is one of the most popular machine learning libraries for Python.\\n\\n-Let's consider a scenario where we want to determine the linear relationship between the numbers of hours a student studies and\\nthe percentage of marks that student scores in an exam. \\n-We want to find out that given the number of hours a student prepares for a test, \\nabout how high of a score can the student achieve? \\n-If we plot the independent variable (hours) on the x-axis and dependent variable (percentage) on the y-axis, \\nlinear regression gives us a straight line that best fits the data points, as shown in the figure below.\\n\\n\""
      ]
     },
     "execution_count": 4,
     "metadata": {},
     "output_type": "execute_result"
    }
   ],
   "source": [
    "print(\"-----------Exercise02-UseCase-Linear Regression for Predict Marks Score based On Study Hours-----------\")\n",
    "print(\"-------------------------------------------------------------------------------------------------------\")\n",
    "\"\"\"\n",
    "In this article we will briefly study what linear regression is and \n",
    "how it can be implemented using the Python Scikit-Learn library, \n",
    "which is one of the most popular machine learning libraries for Python.\n",
    "\n",
    "-Let's consider a scenario where we want to determine the linear relationship between the numbers of hours a student studies and\n",
    "the percentage of marks that student scores in an exam. \n",
    "-We want to find out that given the number of hours a student prepares for a test, \n",
    "about how high of a score can the student achieve? \n",
    "-If we plot the independent variable (hours) on the x-axis and dependent variable (percentage) on the y-axis, \n",
    "linear regression gives us a straight line that best fits the data points, as shown in the figure below.\n",
    "\n",
    "\"\"\""
   ]
  },
  {
   "cell_type": "code",
   "execution_count": 5,
   "metadata": {},
   "outputs": [],
   "source": [
    "import pandas as pd\n",
    "import numpy as np\n",
    "import matplotlib.pyplot as plt"
   ]
  },
  {
   "cell_type": "code",
   "execution_count": 6,
   "metadata": {},
   "outputs": [],
   "source": [
    "'The following command imports the CSV dataset using pandas:'\n",
    "dataset = pd.read_csv('D:\\CDRIVE\\DATA\\student_scores.csv')"
   ]
  },
  {
   "cell_type": "code",
   "execution_count": 7,
   "metadata": {},
   "outputs": [
    {
     "data": {
      "text/plain": [
       "(25, 2)"
      ]
     },
     "execution_count": 7,
     "metadata": {},
     "output_type": "execute_result"
    }
   ],
   "source": [
    "'Now let us explore our dataset a bit. To do so, execute the following script:'\n",
    "dataset.shape\n",
    "\n",
    "'After doing this, you should see the following printed out:'"
   ]
  },
  {
   "cell_type": "code",
   "execution_count": 9,
   "metadata": {},
   "outputs": [
    {
     "data": {
      "text/html": [
       "<div>\n",
       "<style scoped>\n",
       "    .dataframe tbody tr th:only-of-type {\n",
       "        vertical-align: middle;\n",
       "    }\n",
       "\n",
       "    .dataframe tbody tr th {\n",
       "        vertical-align: top;\n",
       "    }\n",
       "\n",
       "    .dataframe thead th {\n",
       "        text-align: right;\n",
       "    }\n",
       "</style>\n",
       "<table border=\"1\" class=\"dataframe\">\n",
       "  <thead>\n",
       "    <tr style=\"text-align: right;\">\n",
       "      <th></th>\n",
       "      <th>Hours</th>\n",
       "      <th>Scores</th>\n",
       "    </tr>\n",
       "  </thead>\n",
       "  <tbody>\n",
       "    <tr>\n",
       "      <th>count</th>\n",
       "      <td>25.000000</td>\n",
       "      <td>25.000000</td>\n",
       "    </tr>\n",
       "    <tr>\n",
       "      <th>mean</th>\n",
       "      <td>5.012000</td>\n",
       "      <td>51.480000</td>\n",
       "    </tr>\n",
       "    <tr>\n",
       "      <th>std</th>\n",
       "      <td>2.525094</td>\n",
       "      <td>25.286887</td>\n",
       "    </tr>\n",
       "    <tr>\n",
       "      <th>min</th>\n",
       "      <td>1.100000</td>\n",
       "      <td>17.000000</td>\n",
       "    </tr>\n",
       "    <tr>\n",
       "      <th>25%</th>\n",
       "      <td>2.700000</td>\n",
       "      <td>30.000000</td>\n",
       "    </tr>\n",
       "    <tr>\n",
       "      <th>50%</th>\n",
       "      <td>4.800000</td>\n",
       "      <td>47.000000</td>\n",
       "    </tr>\n",
       "    <tr>\n",
       "      <th>75%</th>\n",
       "      <td>7.400000</td>\n",
       "      <td>75.000000</td>\n",
       "    </tr>\n",
       "    <tr>\n",
       "      <th>max</th>\n",
       "      <td>9.200000</td>\n",
       "      <td>95.000000</td>\n",
       "    </tr>\n",
       "  </tbody>\n",
       "</table>\n",
       "</div>"
      ],
      "text/plain": [
       "           Hours     Scores\n",
       "count  25.000000  25.000000\n",
       "mean    5.012000  51.480000\n",
       "std     2.525094  25.286887\n",
       "min     1.100000  17.000000\n",
       "25%     2.700000  30.000000\n",
       "50%     4.800000  47.000000\n",
       "75%     7.400000  75.000000\n",
       "max     9.200000  95.000000"
      ]
     },
     "execution_count": 9,
     "metadata": {},
     "output_type": "execute_result"
    }
   ],
   "source": [
    "'To see statistical details of the dataset, we can use describe():'\n",
    "dataset.describe()"
   ]
  },
  {
   "cell_type": "code",
   "execution_count": 10,
   "metadata": {},
   "outputs": [
    {
     "data": {
      "text/html": [
       "<div>\n",
       "<style scoped>\n",
       "    .dataframe tbody tr th:only-of-type {\n",
       "        vertical-align: middle;\n",
       "    }\n",
       "\n",
       "    .dataframe tbody tr th {\n",
       "        vertical-align: top;\n",
       "    }\n",
       "\n",
       "    .dataframe thead th {\n",
       "        text-align: right;\n",
       "    }\n",
       "</style>\n",
       "<table border=\"1\" class=\"dataframe\">\n",
       "  <thead>\n",
       "    <tr style=\"text-align: right;\">\n",
       "      <th></th>\n",
       "      <th>Hours</th>\n",
       "      <th>Scores</th>\n",
       "    </tr>\n",
       "  </thead>\n",
       "  <tbody>\n",
       "    <tr>\n",
       "      <th>0</th>\n",
       "      <td>2.5</td>\n",
       "      <td>21</td>\n",
       "    </tr>\n",
       "    <tr>\n",
       "      <th>1</th>\n",
       "      <td>5.1</td>\n",
       "      <td>47</td>\n",
       "    </tr>\n",
       "    <tr>\n",
       "      <th>2</th>\n",
       "      <td>3.2</td>\n",
       "      <td>27</td>\n",
       "    </tr>\n",
       "    <tr>\n",
       "      <th>3</th>\n",
       "      <td>8.5</td>\n",
       "      <td>75</td>\n",
       "    </tr>\n",
       "    <tr>\n",
       "      <th>4</th>\n",
       "      <td>3.5</td>\n",
       "      <td>30</td>\n",
       "    </tr>\n",
       "  </tbody>\n",
       "</table>\n",
       "</div>"
      ],
      "text/plain": [
       "   Hours  Scores\n",
       "0    2.5      21\n",
       "1    5.1      47\n",
       "2    3.2      27\n",
       "3    8.5      75\n",
       "4    3.5      30"
      ]
     },
     "execution_count": 10,
     "metadata": {},
     "output_type": "execute_result"
    }
   ],
   "source": [
    "'The above method retrieves the first 5 records from our dataset, which will look like this:'\n",
    "dataset.head()"
   ]
  },
  {
   "cell_type": "code",
   "execution_count": 12,
   "metadata": {},
   "outputs": [
    {
     "data": {
      "image/png": "[encoded data removed]",
      "text/plain": [
       "<Figure size 432x288 with 1 Axes>"
      ]
     },
     "metadata": {
      "needs_background": "light"
     },
     "output_type": "display_data"
    }
   ],
   "source": [
    "dataset.plot(x='Hours',y='Scores',style='o')\n",
    "plt.title('Hours Vs Percentage')\n",
    "plt.xlabel('Hours Studied')\n",
    "plt.ylabel('Percentage Scores')\n",
    "plt.show()"
   ]
  },
  {
   "cell_type": "code",
   "execution_count": 13,
   "metadata": {},
   "outputs": [],
   "source": [
    "X = dataset.iloc[:, :-1].values\n",
    "y = dataset.iloc[:, 1].values"
   ]
  },
  {
   "cell_type": "code",
   "execution_count": 36,
   "metadata": {},
   "outputs": [],
   "source": [
    "'We will do this by using Scikit-Learns built-in train_test_split() method:'\n",
    "'The above script splits 80% of the data to training set while 20% of the data to test set.'\n",
    "'The test_size variable is where we actually specify the proportion of test set.'\n",
    "\n",
    "from sklearn.model_selection import train_test_split\n",
    "X_train, X_test, y_train, y_test = train_test_split(X, y, test_size=0.3, random_state=0)"
   ]
  },
  {
   "cell_type": "code",
   "execution_count": 37,
   "metadata": {},
   "outputs": [
    {
     "data": {
      "text/plain": [
       "LinearRegression(copy_X=True, fit_intercept=True, n_jobs=None, normalize=False)"
      ]
     },
     "execution_count": 37,
     "metadata": {},
     "output_type": "execute_result"
    }
   ],
   "source": [
    "'''\n",
    "Training the Algorithm\n",
    "We have split our data into training and testing sets, and now is finally the time to train our algorithm. Execute following command:\n",
    "'''\n",
    "from sklearn.linear_model import LinearRegression\n",
    "regressor = LinearRegression()\n",
    "regressor.fit(X_train, y_train)"
   ]
  },
  {
   "cell_type": "code",
   "execution_count": 38,
   "metadata": {},
   "outputs": [
    {
     "name": "stdout",
     "output_type": "stream",
     "text": [
      "2.37081538234186\n"
     ]
    }
   ],
   "source": [
    "'''\n",
    "With Scikit-Learn it is extremely straight forward to implement linear regression models, \n",
    "as all you really need to do is import the LinearRegression class, instantiate it, and call the fit() method along with our training data. \n",
    "This is about as simple as it gets when using a machine learning library to train on your data.\n",
    "In the theory section we said that linear regression model basically finds the best value for the intercept and slope, \n",
    "which results in a line that best fits the data. \n",
    "To see the value of the intercept and slop calculated by the linear regression algorithm for our dataset, execute the following code.\n",
    "To retrieve the intercept:\n",
    "'''\n",
    "\n",
    "'''\n",
    "With Scikit-Learn it is extremely straight forward to implement linear regression models, \n",
    "as all you really need to do is import the LinearRegression class, instantiate it, and call the fit() method along with our training data. \n",
    "This is about as simple as it gets when using a machine learning library to train on your data.\n",
    "In the theory section we said that linear regression model basically finds the best value for the intercept and slope, \n",
    "which results in a line that best fits the data. \n",
    "To see the value of the intercept and slop calculated by the linear regression algorithm for our dataset, execute the following code.\n",
    "'''\n",
    "\n",
    "'To retrieve the intercept:'\n",
    "print(regressor.intercept_)\n"
   ]
  },
  {
   "cell_type": "code",
   "execution_count": 39,
   "metadata": {},
   "outputs": [
    {
     "name": "stdout",
     "output_type": "stream",
     "text": [
      "[9.78856669]\n"
     ]
    },
    {
     "data": {
      "text/plain": [
       "'\\nThe result should be approximately 9.91065648.\\n\\nThis means that for every one unit of change in hours studied, the change in the score is about 9.91%. \\nOr in simpler words, if a student studies one hour more than they previously studied for an exam, \\nthey can expect to achieve an increase of 9.91% in the score achieved by the student previously.\\n'"
      ]
     },
     "execution_count": 39,
     "metadata": {},
     "output_type": "execute_result"
    }
   ],
   "source": [
    "'The resulting value you see should be approximately 2.01816004143.'\n",
    "\n",
    "'For retrieving the slope (coefficient of x):'\n",
    "\n",
    "print(regressor.coef_)\n",
    "\n",
    "'''\n",
    "The result should be approximately 9.91065648.\n",
    "\n",
    "This means that for every one unit of change in hours studied, the change in the score is about 9.91%. \n",
    "Or in simpler words, if a student studies one hour more than they previously studied for an exam, \n",
    "they can expect to achieve an increase of 9.91% in the score achieved by the student previously.\n",
    "'''"
   ]
  },
  {
   "cell_type": "code",
   "execution_count": 40,
   "metadata": {},
   "outputs": [
    {
     "data": {
      "text/plain": [
       "'\\nThe y_pred is a numpy array that contains all the predicted values for the input values in the X_test series.\\nTo compare the actual output values for X_test with the predicted values, execute the following script:\\n'"
      ]
     },
     "execution_count": 40,
     "metadata": {},
     "output_type": "execute_result"
    }
   ],
   "source": [
    "'''\n",
    "Making Predictions\n",
    "Now that we have trained our algorithm, it s time to make some predictions. \n",
    "To do so, we will use our test data and see how accurately our algorithm predicts the percentage score. \n",
    "To make pre-dictions on the test data, execute the following script:\n",
    "'''\n",
    "y_pred = regressor.predict(X_test)\n",
    "\n",
    "'''\n",
    "The y_pred is a numpy array that contains all the predicted values for the input values in the X_test series.\n",
    "To compare the actual output values for X_test with the predicted values, execute the following script:\n",
    "'''"
   ]
  },
  {
   "cell_type": "code",
   "execution_count": 41,
   "metadata": {},
   "outputs": [
    {
     "data": {
      "text/plain": [
       "array([[1.5],\n",
       "       [3.2],\n",
       "       [7.4],\n",
       "       [2.5],\n",
       "       [5.9],\n",
       "       [3.8],\n",
       "       [1.9],\n",
       "       [7.8]])"
      ]
     },
     "execution_count": 41,
     "metadata": {},
     "output_type": "execute_result"
    }
   ],
   "source": [
    "'To compare the actual output values for X_test with the predicted values, execute the following script:'\n",
    "\n",
    "df = pd.DataFrame({'Actual': y_test, 'Predicted': y_pred})\n",
    "\n",
    "X_test"
   ]
  },
  {
   "cell_type": "code",
   "execution_count": 42,
   "metadata": {},
   "outputs": [
    {
     "data": {
      "text/html": [
       "<div>\n",
       "<style scoped>\n",
       "    .dataframe tbody tr th:only-of-type {\n",
       "        vertical-align: middle;\n",
       "    }\n",
       "\n",
       "    .dataframe tbody tr th {\n",
       "        vertical-align: top;\n",
       "    }\n",
       "\n",
       "    .dataframe thead th {\n",
       "        text-align: right;\n",
       "    }\n",
       "</style>\n",
       "<table border=\"1\" class=\"dataframe\">\n",
       "  <thead>\n",
       "    <tr style=\"text-align: right;\">\n",
       "      <th></th>\n",
       "      <th>Actual</th>\n",
       "      <th>Predicted</th>\n",
       "    </tr>\n",
       "  </thead>\n",
       "  <tbody>\n",
       "    <tr>\n",
       "      <th>0</th>\n",
       "      <td>20</td>\n",
       "      <td>17.053665</td>\n",
       "    </tr>\n",
       "    <tr>\n",
       "      <th>1</th>\n",
       "      <td>27</td>\n",
       "      <td>33.694229</td>\n",
       "    </tr>\n",
       "    <tr>\n",
       "      <th>2</th>\n",
       "      <td>69</td>\n",
       "      <td>74.806209</td>\n",
       "    </tr>\n",
       "    <tr>\n",
       "      <th>3</th>\n",
       "      <td>30</td>\n",
       "      <td>26.842232</td>\n",
       "    </tr>\n",
       "    <tr>\n",
       "      <th>4</th>\n",
       "      <td>62</td>\n",
       "      <td>60.123359</td>\n",
       "    </tr>\n",
       "    <tr>\n",
       "      <th>5</th>\n",
       "      <td>35</td>\n",
       "      <td>39.567369</td>\n",
       "    </tr>\n",
       "    <tr>\n",
       "      <th>6</th>\n",
       "      <td>24</td>\n",
       "      <td>20.969092</td>\n",
       "    </tr>\n",
       "    <tr>\n",
       "      <th>7</th>\n",
       "      <td>86</td>\n",
       "      <td>78.721636</td>\n",
       "    </tr>\n",
       "  </tbody>\n",
       "</table>\n",
       "</div>"
      ],
      "text/plain": [
       "   Actual  Predicted\n",
       "0      20  17.053665\n",
       "1      27  33.694229\n",
       "2      69  74.806209\n",
       "3      30  26.842232\n",
       "4      62  60.123359\n",
       "5      35  39.567369\n",
       "6      24  20.969092\n",
       "7      86  78.721636"
      ]
     },
     "execution_count": 42,
     "metadata": {},
     "output_type": "execute_result"
    }
   ],
   "source": [
    "'The output looks like this:'\n",
    "\n",
    "df"
   ]
  },
  {
   "cell_type": "code",
   "execution_count": 43,
   "metadata": {
    "scrolled": true
   },
   "outputs": [
    {
     "name": "stdout",
     "output_type": "stream",
     "text": [
      "Mean Absolute Error: 4.419727808027654\n",
      "Mean Squared Error: 22.965097212700417\n",
      "Root Mean Squared Error: 4.792191274636314\n"
     ]
    }
   ],
   "source": [
    "'''\n",
    "Evaluating the Algorithm\n",
    "The final step is to evaluate the performance of algorithm. \n",
    "This step is particularly important to compare how well different algorithms perform on a particular dataset. For regression algorithms, three evaluation metrics are commonly used:\n",
    "\n",
    "Mean Absolute Error (MAE) is the mean of the absolute value of the errors. It is calculated as:\n",
    "Mean Absolute Error\n",
    "Mean Squared Error (MSE) is the mean of the squared errors and is calculated as:\n",
    "Mean Squared Error\n",
    "Root Mean Squared Error (RMSE) is the square root of the mean of the squared errors:\n",
    "Root Mean Squared Error\n",
    "Luckily, we don't have to perform these calculations manually. \n",
    "The Scikit-Learn library comes with pre-built functions that can be used to find out these values for us.\n",
    "\n",
    "Let's find the values for these metrics using our test data. Execute the following code:\n",
    "'''\n",
    "\n",
    "from sklearn import metrics\n",
    "print('Mean Absolute Error:', metrics.mean_absolute_error(y_test, y_pred))\n",
    "print('Mean Squared Error:', metrics.mean_squared_error(y_test, y_pred))\n",
    "print('Root Mean Squared Error:', np.sqrt(metrics.mean_squared_error(y_test, y_pred)))\n"
   ]
  },
  {
   "cell_type": "code",
   "execution_count": null,
   "metadata": {},
   "outputs": [],
   "source": [
    "'''\n",
    "You can see that the value of root mean squared error is 4.79, \n",
    "which is less than 10% of the mean value of the percentages of all the students i.e. 51.48. \n",
    "This means that our algorithm did a decent job.\n",
    "\n",
    "'''"
   ]
  }
 ],
 "metadata": {
  "kernelspec": {
   "display_name": "Python 3",
   "language": "python",
   "name": "python3"
  },
  "language_info": {
   "codemirror_mode": {
    "name": "ipython",
    "version": 3
   },
   "file_extension": ".py",
   "mimetype": "text/x-python",
   "name": "python",
   "nbconvert_exporter": "python",
   "pygments_lexer": "ipython3",
   "version": "3.7.4"
  }
 },
 "nbformat": 4,
 "nbformat_minor": 4
}
