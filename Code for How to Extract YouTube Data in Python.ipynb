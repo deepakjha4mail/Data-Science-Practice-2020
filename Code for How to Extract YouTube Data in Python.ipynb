{
 "cells": [
  {
   "cell_type": "code",
   "execution_count": 16,
   "metadata": {},
   "outputs": [],
   "source": [
    "import requests\n",
    "from bs4 import BeautifulSoup as bs\n",
    "\n",
    "url = \"https://www.youtube.com/watch?v=9bZkp7q19f0\""
   ]
  },
  {
   "cell_type": "code",
   "execution_count": 17,
   "metadata": {},
   "outputs": [],
   "source": [
    "def get_video_info(url):\n",
    "    # download HTML code\n",
    "    content = requests.get(url)\n",
    "    \n",
    "    # create beautiful soup object to parse HTML\n",
    "    soup = bs(content.content, \"html.parser\")\n",
    "    \n",
    "    # initialize the result\n",
    "    result = {}\n",
    "    \n",
    "    # video title\n",
    "    result['title'] = soup.find(\"span\", attrs={\"class\": \"watch-title\"}).text.strip()\n",
    "    \n",
    "    # video views (converted to integer)\n",
    "    result['views'] = int(soup.find(\"div\", attrs={\"class\": \"watch-view-count\"}).text[:-6].replace(\",\", \"\"))\n",
    "    \n",
    "    # video description\n",
    "    result['description'] = soup.find(\"p\", attrs={\"id\": \"eow-description\"}).text\n",
    "    \n",
    "    # date published\n",
    "    result['date_published'] = soup.find(\"strong\", attrs={\"class\": \"watch-time-text\"}).text\n",
    "    \n",
    "    # number of likes as integer\n",
    "    result['likes'] = int(soup.find(\"button\", attrs={\"title\": \"I like this\"}).text.replace(\",\", \"\"))\n",
    "    \n",
    "    # number of dislikes as integer\n",
    "    result['dislikes'] = int(soup.find(\"button\", attrs={\"title\": \"I dislike this\"}).text.replace(\",\", \"\"))\n",
    "    \n",
    "    # channel details\n",
    "    channel_tag = soup.find(\"div\", attrs={\"class\": \"yt-user-info\"}).find(\"a\")\n",
    "    \n",
    "    # channel name\n",
    "    channel_name = channel_tag.text\n",
    "    \n",
    "    # channel URL\n",
    "    channel_url = f\"https://www.youtube.com{channel_tag['href']}\"\n",
    "    \n",
    "    # number of subscribers as str\n",
    "    channel_subscribers = soup.find(\"span\", attrs={\"class\": \"yt-subscriber-count\"}).text.strip()\n",
    "    result['channel'] = {'name': channel_name, 'url': channel_url, 'subscribers': channel_subscribers}\n",
    "    \n",
    "    return result"
   ]
  },
  {
   "cell_type": "code",
   "execution_count": 11,
   "metadata": {},
   "outputs": [
    {
     "name": "stderr",
     "output_type": "stream",
     "text": [
      "usage: ipykernel_launcher.py [-h] url\n",
      "ipykernel_launcher.py: error: unrecognized arguments: -f\n"
     ]
    },
    {
     "ename": "SystemExit",
     "evalue": "2",
     "output_type": "error",
     "traceback": [
      "An exception has occurred, use %tb to see the full traceback.\n",
      "\u001b[1;31mSystemExit\u001b[0m\u001b[1;31m:\u001b[0m 2\n"
     ]
    }
   ],
   "source": [
    "if __name__ == \"__main__\":\n",
    "    import argparse\n",
    "    parser = argparse.ArgumentParser(description=\"YouTube Video Data Extractor\")\n",
    "    parser.add_argument(\"url\", help=\"URL of the YouTube video\")\n",
    "\n",
    "    args = parser.parse_args()\n",
    "    # parse the video URL from command line\n",
    "    url = args.url\n",
    "    \n",
    "    data = get_video_info(url)\n"
   ]
  },
  {
   "cell_type": "code",
   "execution_count": 12,
   "metadata": {},
   "outputs": [
    {
     "ename": "IndentationError",
     "evalue": "unexpected indent (<ipython-input-12-0d0bf136f187>, line 2)",
     "output_type": "error",
     "traceback": [
      "\u001b[1;36m  File \u001b[1;32m\"<ipython-input-12-0d0bf136f187>\"\u001b[1;36m, line \u001b[1;32m2\u001b[0m\n\u001b[1;33m    print(f\"Title: {data['title']}\")\u001b[0m\n\u001b[1;37m    ^\u001b[0m\n\u001b[1;31mIndentationError\u001b[0m\u001b[1;31m:\u001b[0m unexpected indent\n"
     ]
    }
   ],
   "source": [
    "# print in nice format\n",
    "    print(f\"Title: {data['title']}\")\n",
    "    print(f\"Views: {data['views']}\")\n",
    "    print(f\"\\nDescription: {data['description']}\\n\")\n",
    "    print(data['date_published'])\n",
    "    print(f\"Likes: {data['likes']}\")\n",
    "    print(f\"Dislikes: {data['dislikes']}\")\n",
    "    print(f\"\\nChannel Name: {data['channel']['name']}\")\n",
    "    print(f\"Channel URL: {data['channel']['url']}\")\n",
    "    print(f\"Channel Subscribers: {data['channel']['subscribers']}\")"
   ]
  },
  {
   "cell_type": "code",
   "execution_count": 13,
   "metadata": {},
   "outputs": [
    {
     "ename": "NameError",
     "evalue": "name 'data' is not defined",
     "output_type": "error",
     "traceback": [
      "\u001b[1;31m---------------------------------------------------------------------------\u001b[0m",
      "\u001b[1;31mNameError\u001b[0m                                 Traceback (most recent call last)",
      "\u001b[1;32m<ipython-input-13-5360496f5392>\u001b[0m in \u001b[0;36m<module>\u001b[1;34m\u001b[0m\n\u001b[0;32m      1\u001b[0m \u001b[0mvideo_details\u001b[0m \u001b[1;33m=\u001b[0m \u001b[1;33m[\u001b[0m\u001b[1;33m]\u001b[0m\u001b[1;33m\u001b[0m\u001b[1;33m\u001b[0m\u001b[0m\n\u001b[0;32m      2\u001b[0m \u001b[1;33m\u001b[0m\u001b[0m\n\u001b[1;32m----> 3\u001b[1;33m \u001b[0mvideo_details\u001b[0m\u001b[1;33m[\u001b[0m\u001b[1;34m'Title'\u001b[0m\u001b[1;33m]\u001b[0m \u001b[1;33m=\u001b[0m \u001b[0mdata\u001b[0m\u001b[1;33m[\u001b[0m\u001b[1;34m'title'\u001b[0m\u001b[1;33m]\u001b[0m\u001b[1;33m\u001b[0m\u001b[1;33m\u001b[0m\u001b[0m\n\u001b[0m\u001b[0;32m      4\u001b[0m \u001b[0mvideo_details\u001b[0m\u001b[1;33m[\u001b[0m\u001b[1;34m'Views'\u001b[0m\u001b[1;33m]\u001b[0m \u001b[1;33m=\u001b[0m \u001b[0mdata\u001b[0m\u001b[1;33m[\u001b[0m\u001b[1;34m'views'\u001b[0m\u001b[1;33m]\u001b[0m\u001b[1;33m\u001b[0m\u001b[1;33m\u001b[0m\u001b[0m\n\u001b[0;32m      5\u001b[0m \u001b[0mvideo_details\u001b[0m\u001b[1;33m[\u001b[0m\u001b[1;34m'Description'\u001b[0m\u001b[1;33m]\u001b[0m \u001b[1;33m=\u001b[0m \u001b[0mdata\u001b[0m\u001b[1;33m[\u001b[0m\u001b[1;34m'description'\u001b[0m\u001b[1;33m]\u001b[0m\u001b[1;33m\u001b[0m\u001b[1;33m\u001b[0m\u001b[0m\n",
      "\u001b[1;31mNameError\u001b[0m: name 'data' is not defined"
     ]
    }
   ],
   "source": [
    "video_details = []\n",
    "\n",
    "video_details['Title'] = data['title']\n",
    "video_details['Views'] = data['views']\n",
    "video_details['Description'] = data['description']\n",
    "video_details['Date Published'] = data['date_published']\n",
    "video_details['Likes'] = data['likes']\n",
    "video_details['Dislikes'] = data['dislikes']\n",
    "video_details['Channel Name'] = data['channel']['name']\n",
    "video_details['Channel URL'] = data['channel']['url']\n",
    "video_details['Channel Subscribers'] = data['channel']['subscribers']\n"
   ]
  },
  {
   "cell_type": "code",
   "execution_count": 14,
   "metadata": {},
   "outputs": [
    {
     "ename": "IndentationError",
     "evalue": "unexpected indent (<ipython-input-14-fa8f8bf8862d>, line 2)",
     "output_type": "error",
     "traceback": [
      "\u001b[1;36m  File \u001b[1;32m\"<ipython-input-14-fa8f8bf8862d>\"\u001b[1;36m, line \u001b[1;32m2\u001b[0m\n\u001b[1;33m    (Title: {data['title']})\u001b[0m\n\u001b[1;37m    ^\u001b[0m\n\u001b[1;31mIndentationError\u001b[0m\u001b[1;31m:\u001b[0m unexpected indent\n"
     ]
    }
   ],
   "source": [
    "# print in nice format\n",
    "    (Title: {data['title']})\n",
    "    (Views: {data['views']})\n",
    "    (Description: {data['description']})\n",
    "    (Date Published: {data['date_published']})\n",
    "    (Likes: {data['likes']})\n",
    "    (Dislikes: {data['dislikes']})\n",
    "    (Channel Name: {data['channel']['name']})\n",
    "    (Channel URL: {data['channel']['url']})\n",
    "    (Channel Subscribers: {data['channel']['subscribers']})"
   ]
  },
  {
   "cell_type": "code",
   "execution_count": 15,
   "metadata": {},
   "outputs": [
    {
     "ename": "NameError",
     "evalue": "name 'pd' is not defined",
     "output_type": "error",
     "traceback": [
      "\u001b[1;31m---------------------------------------------------------------------------\u001b[0m",
      "\u001b[1;31mNameError\u001b[0m                                 Traceback (most recent call last)",
      "\u001b[1;32m<ipython-input-15-2ad784a87e7f>\u001b[0m in \u001b[0;36m<module>\u001b[1;34m\u001b[0m\n\u001b[1;32m----> 1\u001b[1;33m \u001b[0mdf\u001b[0m \u001b[1;33m=\u001b[0m \u001b[0mpd\u001b[0m\u001b[1;33m.\u001b[0m\u001b[0mDataFrame\u001b[0m\u001b[1;33m(\u001b[0m\u001b[0mresult\u001b[0m\u001b[1;33m)\u001b[0m\u001b[1;33m\u001b[0m\u001b[1;33m\u001b[0m\u001b[0m\n\u001b[0m\u001b[0;32m      2\u001b[0m \u001b[1;33m\u001b[0m\u001b[0m\n\u001b[0;32m      3\u001b[0m \u001b[0mdf\u001b[0m\u001b[1;33m\u001b[0m\u001b[1;33m\u001b[0m\u001b[0m\n",
      "\u001b[1;31mNameError\u001b[0m: name 'pd' is not defined"
     ]
    }
   ],
   "source": [
    "df = pd.DataFrame(result)\n",
    "\n",
    "df"
   ]
  },
  {
   "cell_type": "code",
   "execution_count": null,
   "metadata": {},
   "outputs": [],
   "source": []
  }
 ],
 "metadata": {
  "kernelspec": {
   "display_name": "Python 3",
   "language": "python",
   "name": "python3"
  },
  "language_info": {
   "codemirror_mode": {
    "name": "ipython",
    "version": 3
   },
   "file_extension": ".py",
   "mimetype": "text/x-python",
   "name": "python",
   "nbconvert_exporter": "python",
   "pygments_lexer": "ipython3",
   "version": "3.7.4"
  }
 },
 "nbformat": 4,
 "nbformat_minor": 4
}
