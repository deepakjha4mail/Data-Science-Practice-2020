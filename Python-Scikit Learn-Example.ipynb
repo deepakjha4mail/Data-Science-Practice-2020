{
 "cells": [
  {
   "cell_type": "code",
   "execution_count": 1,
   "metadata": {},
   "outputs": [
    {
     "data": {
      "text/plain": [
       "'\\nWhat is Scikit-Learn (Sklearn)?\\n---------------------------------\\nScikit-learn (Sklearn) is the most useful and robust library for machine learning in Python. \\nIt provides a selection of efficient tools for machine learning and statistical modeling including classification, regression, clustering and dimensionality reduction via a consistence interface in Python. \\nThis library, which is largely written in Python, is built upon NumPy, SciPy and Matplotlib.\\n\\nFeatures:\\n----------\\nRather than focusing on loading, manipulating and summarising data, Scikit-learn library is focused on modeling the data. \\nSome of the most popular groups of models provided by Sklearn are as follows −\\n\\nSupervised Learning algorithms − Almost all the popular supervised learning algorithms, like Linear Regression, Support Vector Machine (SVM), Decision Tree etc., are the part of scikit-learn.\\n\\nUnsupervised Learning algorithms − On the other hand, it also has all the popular unsupervised learning algorithms from clustering, factor analysis, PCA (Principal Component Analysis) to unsupervised neural networks.\\n\\nClustering − This model is used for grouping unlabeled data.\\n\\nCross Validation − It is used to check the accuracy of supervised models on unseen data.\\n\\nDimensionality Reduction − It is used for reducing the number of attributes in data which can be further used for summarisation, visualisation and feature selection.\\n\\nEnsemble methods − As name suggest, it is used for combining the predictions of multiple supervised models.\\n\\nFeature extraction − It is used to extract the features from data to define the attributes in image and text data.\\n\\nFeature selection − It is used to identify useful attributes to create supervised models.\\n\\nOpen Source − It is open source library and also commercially usable under BSD license.\\n\\n\\n'"
      ]
     },
     "execution_count": 1,
     "metadata": {},
     "output_type": "execute_result"
    }
   ],
   "source": [
    "#--------Python-Scikit Learn-Example--------\n",
    "#-------------------------------------------\n",
    "\n",
    "'''\n",
    "What is Scikit-Learn (Sklearn)?\n",
    "---------------------------------\n",
    "Scikit-learn (Sklearn) is the most useful and robust library for machine learning in Python. \n",
    "It provides a selection of efficient tools for machine learning and statistical modeling including classification, regression, clustering and dimensionality reduction via a consistence interface in Python. \n",
    "This library, which is largely written in Python, is built upon NumPy, SciPy and Matplotlib.\n",
    "\n",
    "Features:\n",
    "----------\n",
    "Rather than focusing on loading, manipulating and summarising data, Scikit-learn library is focused on modeling the data. \n",
    "Some of the most popular groups of models provided by Sklearn are as follows −\n",
    "\n",
    "Supervised Learning algorithms − Almost all the popular supervised learning algorithms, like Linear Regression, Support Vector Machine (SVM), Decision Tree etc., are the part of scikit-learn.\n",
    "\n",
    "Unsupervised Learning algorithms − On the other hand, it also has all the popular unsupervised learning algorithms from clustering, factor analysis, PCA (Principal Component Analysis) to unsupervised neural networks.\n",
    "\n",
    "Clustering − This model is used for grouping unlabeled data.\n",
    "\n",
    "Cross Validation − It is used to check the accuracy of supervised models on unseen data.\n",
    "\n",
    "Dimensionality Reduction − It is used for reducing the number of attributes in data which can be further used for summarisation, visualisation and feature selection.\n",
    "\n",
    "Ensemble methods − As name suggest, it is used for combining the predictions of multiple supervised models.\n",
    "\n",
    "Feature extraction − It is used to extract the features from data to define the attributes in image and text data.\n",
    "\n",
    "Feature selection − It is used to identify useful attributes to create supervised models.\n",
    "\n",
    "Open Source − It is open source library and also commercially usable under BSD license.\n",
    "\n",
    "\n",
    "'''"
   ]
  },
  {
   "cell_type": "code",
   "execution_count": 2,
   "metadata": {},
   "outputs": [
    {
     "data": {
      "text/plain": [
       "'\\nDataset Loading:\\n------------------------\\nA collection of data is called dataset. \\n\\nIt is having the following two components −\\n-------------------------------------------\\n>>>Features − The variables of data are called its features. They are also known as predictors, inputs or attributes.\\n------------\\na) Feature matrix − It is the collection of features, in case there are more than one.\\n\\nb) Feature Names − It is the list of all the names of the features.\\n\\n>>>Response − It is the output variable that basically depends upon the feature variables. They are also known as target, label or output.\\n------------\\na) Response Vector − It is used to represent response column. Generally, we have just one response column.\\n\\nb) Target Names − It represent the possible values taken by a response vector.\\n\\nScikit-learn have few example datasets like iris and digits for classification and the Boston house prices for regression.\\n'"
      ]
     },
     "execution_count": 2,
     "metadata": {},
     "output_type": "execute_result"
    }
   ],
   "source": [
    "'''\n",
    "Dataset Loading:\n",
    "------------------------\n",
    "A collection of data is called dataset. \n",
    "\n",
    "It is having the following two components −\n",
    "-------------------------------------------\n",
    ">>>Features − The variables of data are called its features. They are also known as predictors, inputs or attributes.\n",
    "------------\n",
    "a) Feature matrix − It is the collection of features, in case there are more than one.\n",
    "\n",
    "b) Feature Names − It is the list of all the names of the features.\n",
    "\n",
    ">>>Response − It is the output variable that basically depends upon the feature variables. They are also known as target, label or output.\n",
    "------------\n",
    "a) Response Vector − It is used to represent response column. Generally, we have just one response column.\n",
    "\n",
    "b) Target Names − It represent the possible values taken by a response vector.\n",
    "\n",
    "Scikit-learn have few example datasets like iris and digits for classification and the Boston house prices for regression.\n",
    "'''"
   ]
  },
  {
   "cell_type": "code",
   "execution_count": 9,
   "metadata": {},
   "outputs": [
    {
     "name": "stdout",
     "output_type": "stream",
     "text": [
      "Feature names: ['sepal length (cm)', 'sepal width (cm)', 'petal length (cm)', 'petal width (cm)']\n",
      "Target names: ['setosa' 'versicolor' 'virginica']\n",
      "\n",
      "First 10 rows of X:\n",
      " [[5.1 3.5 1.4 0.2]\n",
      " [4.9 3.  1.4 0.2]\n",
      " [4.7 3.2 1.3 0.2]\n",
      " [4.6 3.1 1.5 0.2]\n",
      " [5.  3.6 1.4 0.2]\n",
      " [5.4 3.9 1.7 0.4]\n",
      " [4.6 3.4 1.4 0.3]\n",
      " [5.  3.4 1.5 0.2]\n",
      " [4.4 2.9 1.4 0.2]\n",
      " [4.9 3.1 1.5 0.1]]\n"
     ]
    }
   ],
   "source": [
    "#Example : Following is an example to load iris dataset −\n",
    "\n",
    "from sklearn.datasets import load_iris\n",
    "\n",
    "iris = load_iris()\n",
    "X = iris.data\n",
    "y = iris.target\n",
    "feature_names = iris.feature_names\n",
    "target_names = iris.target_names\n",
    "\n",
    "print(\"Feature names:\", feature_names)\n",
    "print(\"Target names:\", target_names)\n",
    "print(\"\\nFirst 10 rows of X:\\n\", X[:10])\n",
    "\n",
    "#print(\"\\nFirst 10 rows of y:\\n\", y)"
   ]
  },
  {
   "cell_type": "code",
   "execution_count": 10,
   "metadata": {},
   "outputs": [
    {
     "name": "stdout",
     "output_type": "stream",
     "text": [
      "(105, 4)\n",
      "(45, 4)\n",
      "(105,)\n",
      "(45,)\n"
     ]
    }
   ],
   "source": [
    "'''\n",
    "Splitting the dataset\n",
    "To check the accuracy of our model, we can split the dataset into two pieces-a training set and a testing set. \n",
    "Use the training set to train the model and testing set to test the model. \n",
    "After that, we can evaluate how well our model did.\n",
    "\n",
    "Example\n",
    "The following example will split the data into 70:30 ratio, i.e. 70% data will be used as training data and \n",
    "30% will be used as testing data. \n",
    "The dataset is iris dataset as in above example.\n",
    "'''\n",
    "\n",
    "from sklearn.datasets import load_iris\n",
    "iris = load_iris()\n",
    "\n",
    "X = iris.data\n",
    "y = iris.target\n",
    "\n",
    "from sklearn.model_selection import train_test_split\n",
    "\n",
    "X_train, X_test, y_train, y_test = train_test_split(\n",
    "   X, y, test_size = 0.3, random_state = 1\n",
    ")\n",
    "\n",
    "print(X_train.shape)\n",
    "print(X_test.shape)\n",
    "\n",
    "print(y_train.shape)\n",
    "print(y_test.shape)"
   ]
  },
  {
   "cell_type": "code",
   "execution_count": 11,
   "metadata": {},
   "outputs": [
    {
     "data": {
      "text/plain": [
       "'\\nAs seen in the example above, it uses train_test_split() function of scikit-learn to split the dataset. \\nThis function has the following arguments −\\n\\nX, y − Here, X is the feature matrix and y is the response vector, which need to be split.\\n\\ntest_size − This represents the ratio of test data to the total given data. As in the above example, \\nwe are setting test_data = 0.3 for 150 rows of X. It will produce test data of 150*0.3 = 45 rows.\\n\\nrandom_size − It is used to guarantee that the split will always be the same. \\nThis is useful in the situations where you want reproducible results.\\n'"
      ]
     },
     "execution_count": 11,
     "metadata": {},
     "output_type": "execute_result"
    }
   ],
   "source": [
    "'''\n",
    "As seen in the example above, it uses train_test_split() function of scikit-learn to split the dataset. \n",
    "This function has the following arguments −\n",
    "\n",
    "X, y − Here, X is the feature matrix and y is the response vector, which need to be split.\n",
    "\n",
    "test_size − This represents the ratio of test data to the total given data. As in the above example, \n",
    "we are setting test_data = 0.3 for 150 rows of X. It will produce test data of 150*0.3 = 45 rows.\n",
    "\n",
    "random_size − It is used to guarantee that the split will always be the same. \n",
    "This is useful in the situations where you want reproducible results.\n",
    "'''"
   ]
  },
  {
   "cell_type": "code",
   "execution_count": 15,
   "metadata": {},
   "outputs": [
    {
     "name": "stdout",
     "output_type": "stream",
     "text": [
      "Accuracy: 0.9833333333333333\n",
      "Predictions: ['versicolor', 'virginica']\n",
      "Predictions1: ['versicolor', 'virginica']\n"
     ]
    }
   ],
   "source": [
    "'''\n",
    "Train the Model:\n",
    "-----------------\n",
    "Next, we can use our dataset to train some prediction-model. \n",
    "As discussed, scikit-learn has wide range of Machine Learning (ML) algorithms which have a consistent interface for fitting, predicting accuracy, recall etc.\n",
    "\n",
    "Example\n",
    "In the example below, we are going to use KNN (K nearest neighbors) classifier. \n",
    "Don’t go into the details of KNN algorithms, as there will be a separate chapter for that. \n",
    "This example is used to make you understand the implementation part only.\n",
    "'''\n",
    "from sklearn.datasets import load_iris\n",
    "\n",
    "iris = load_iris()\n",
    "X = iris.data\n",
    "y = iris.target\n",
    "\n",
    "from sklearn.model_selection import train_test_split\n",
    "X_train, X_test, y_train, y_test = train_test_split(\n",
    "   X, y, test_size = 0.4, random_state=1\n",
    ")\n",
    "\n",
    "from sklearn.neighbors import KNeighborsClassifier\n",
    "from sklearn import metrics\n",
    "\n",
    "classifier_knn = KNeighborsClassifier(n_neighbors = 3)\n",
    "classifier_knn.fit(X_train, y_train)\n",
    "y_pred = classifier_knn.predict(X_test)\n",
    "\n",
    "# Finding accuracy by comparing actual response values(y_test)with predicted response value(y_pred)\n",
    "print(\"Accuracy:\", metrics.accuracy_score(y_test, y_pred))\n",
    "\n",
    "# Providing sample data and the model will make prediction out of that data\n",
    "sample = [[5, 5, 3, 2], [2, 4, 3, 5]]\n",
    "preds = classifier_knn.predict(sample)\n",
    "pred_species = [iris.target_names[p] for p in preds] \n",
    "\n",
    "print(\"Predictions:\", pred_species)\n",
    "\n",
    "# Providing sample data and the model will make prediction out of that data\n",
    "sample = [[5, 4, 3, 2], [2, 3, 4, 5]]\n",
    "preds1 = classifier_knn.predict(sample)\n",
    "pred_species1 = [iris.target_names[p] for p in preds1] \n",
    "\n",
    "print(\"Predictions1:\", pred_species1)"
   ]
  },
  {
   "cell_type": "code",
   "execution_count": 16,
   "metadata": {},
   "outputs": [
    {
     "name": "stderr",
     "output_type": "stream",
     "text": [
      "C:\\ProgramData\\Anaconda3\\lib\\site-packages\\sklearn\\externals\\joblib\\__init__.py:15: DeprecationWarning: sklearn.externals.joblib is deprecated in 0.21 and will be removed in 0.23. Please import this functionality directly from joblib, which can be installed with: pip install joblib. If this warning is raised when loading pickled models, you may need to re-serialize those models with scikit-learn 0.21+.\n",
      "  warnings.warn(msg, category=DeprecationWarning)\n"
     ]
    },
    {
     "data": {
      "text/plain": [
       "KNeighborsClassifier(algorithm='auto', leaf_size=30, metric='minkowski',\n",
       "                     metric_params=None, n_jobs=None, n_neighbors=3, p=2,\n",
       "                     weights='uniform')"
      ]
     },
     "execution_count": 16,
     "metadata": {},
     "output_type": "execute_result"
    }
   ],
   "source": [
    "'''\n",
    "Model Persistence:\n",
    "---------------------\n",
    "Once you train the model, it is desirable that the model should be persist for future use so that we do not need to retrain it again and again. \n",
    "It can be done with the help of dump and load features of joblib package.\n",
    "\n",
    "Consider the example below in which we will be saving the above trained model (classifier_knn) for future use −\n",
    "'''\n",
    "from sklearn.externals import joblib\n",
    "\n",
    "joblib.dump(classifier_knn, 'iris_classifier_knn.joblib')\n",
    "\n",
    "'The above code will save the model into file named iris_classifier_knn.joblib.'\n",
    "'Now, the object can be reloaded from the file with the help of following code −'\n",
    "\n",
    "joblib.load('iris_classifier_knn.joblib')\n"
   ]
  },
  {
   "cell_type": "code",
   "execution_count": 29,
   "metadata": {},
   "outputs": [
    {
     "name": "stdout",
     "output_type": "stream",
     "text": [
      "\n",
      "Binarized data:\n",
      " [[1. 0. 1.]\n",
      " [0. 1. 1.]\n",
      " [0. 0. 1.]\n",
      " [1. 1. 0.]]\n"
     ]
    }
   ],
   "source": [
    "'''\n",
    "Preprocessing the Data:\n",
    "------------------------\n",
    "As we are dealing with lots of data and that data is in raw form, before inputting that data to machine learning algorithms, \n",
    "we need to convert it into meaningful data. This process is called preprocessing the data. \n",
    "Scikit-learn has package named preprocessing for this purpose. The preprocessing package has the following techniques −\n",
    "\n",
    "Binarisation:\n",
    "--------------\n",
    "This preprocessing technique is used when we need to convert our numerical values into Boolean values.\n",
    "\n",
    "Example\n",
    "import numpy as np\n",
    "from sklearn import preprocessing\n",
    "Input_data = np.array(\n",
    "   [2.1, -1.9, 5.5],\n",
    "   [-1.5, 2.4, 3.5],\n",
    "   [0.5, -7.9, 5.6],\n",
    "   [5.9, 2.3, -5.8]]\n",
    ")\n",
    "data_binarized = preprocessing.Binarizer(threshold=0.5).transform(input_data)\n",
    "print(\"\\nBinarized data:\\n\", data_binarized)\n",
    "\n",
    "\n",
    "In the above example, we used threshold value = 0.5 and that is why, all the values above 0.5 would be converted to 1, \n",
    "and all the values below 0.5 would be converted to 0.\n",
    "'''\n",
    "\n",
    "import numpy as np\n",
    "from sklearn import preprocessing\n",
    "\n",
    "Input_data = np.array([[2.1, -1.9, 5.5],\n",
    "                       [-1.5, 2.4, 3.5],\n",
    "                       [0.5, -7.9, 5.6],\n",
    "                       [5.9, 2.3, -5.8]])\n",
    "\n",
    "data_binarized = preprocessing.Binarizer(threshold=0.5).transform(Input_data)\n",
    "\n",
    "print(\"\\nBinarized data:\\n\", data_binarized)"
   ]
  },
  {
   "cell_type": "code",
   "execution_count": 35,
   "metadata": {},
   "outputs": [
    {
     "name": "stdout",
     "output_type": "stream",
     "text": [
      "Mean = [ 1.75  -1.275  2.2  ]\n",
      "Stddeviation =  [2.71431391 4.20022321 4.69414529]\n",
      "Mean_removed = [1.11022302e-16 0.00000000e+00 0.00000000e+00]\n",
      "Stddeviation_removed = [1. 1. 1.]\n",
      "Mean_removed1 = [1.11022302e-16 0.00000000e+00 0.00000000e+00]\n",
      "Stddeviation_removed1 = [1. 1. 1.]\n",
      "Min values (Data Set):  [-1.19735598 -1.57729713 -1.70425062]\n",
      "Max values (Data Set):  [1.52893149 0.8749535  0.72430651]\n"
     ]
    }
   ],
   "source": [
    "'''\n",
    "Mean Removal:\n",
    "-------------------\n",
    "This technique is used to eliminate the mean from feature vector so that every feature centered on zero.\n",
    "\n",
    "Example:\n",
    "---------\n",
    "'''\n",
    "\n",
    "import numpy as np\n",
    "from sklearn import preprocessing\n",
    "input_data = np.array(\n",
    "   [[2.1, -1.9, 5.5],\n",
    "   [-1.5, 2.4, 3.5],\n",
    "   [0.5, -7.9, 5.6],\n",
    "   [5.9, 2.3, -5.8]]\n",
    ")\n",
    "\n",
    "#displaying the mean and the standard deviation of the input data\n",
    "print(\"Mean =\", input_data.mean(axis=0))\n",
    "print(\"Stddeviation = \", input_data.std(axis=0))\n",
    "\n",
    "#Removing the mean and the standard deviation of the input data\n",
    "data_scaled = preprocessing.scale(input_data)\n",
    "print(\"Mean_removed =\", data_scaled.mean(axis=0))\n",
    "print(\"Stddeviation_removed =\", data_scaled.std(axis=0))\n",
    "\n",
    "#Removing the mean and the standard deviation of the input data-Other Way\n",
    "'''\n",
    "StandardScaler from sci-kit-learn removes the mean and scales the data to unit variance. \n",
    "We can import StandardScalar method from scikit learn and apply it to our dataset.\n",
    "'''\n",
    "from sklearn.preprocessing import StandardScaler\n",
    "scaler = StandardScaler() \n",
    "data_scaled1 = scaler.fit_transform(input_data)\n",
    "    \n",
    "print(\"Mean_removed1 =\", data_scaled.mean(axis=0))\n",
    "print(\"Stddeviation_removed1 =\", data_scaled.std(axis=0))\n",
    "\n",
    "print('Min values (Data Set): ', data_scaled1.min(axis=0))\n",
    "print('Max values (Data Set): ', data_scaled1.max(axis=0))"
   ]
  },
  {
   "cell_type": "code",
   "execution_count": 43,
   "metadata": {},
   "outputs": [
    {
     "name": "stdout",
     "output_type": "stream",
     "text": [
      "Mean_removed2 = [0.43918919 0.64320388 0.70175439]\n",
      "Stddeviation_removed2 = [0.36679918 0.40778866 0.41176713]\n",
      "Min values (Data Set):  [0. 0. 0.]\n",
      "Max values (Data Set):  [1. 1. 1.]\n"
     ]
    }
   ],
   "source": [
    "'''\n",
    "Normalization (Min-Max Scalar) :\n",
    "---------------------------------\n",
    "In this approach, the data is scaled to a fixed range — usually 0 to 1.\n",
    "In contrast to standardization, the cost of having this bounded range is that we will end up with smaller standard deviations, which can suppress the effect of outliers. Thus MinMax Scalar is sensitive to outliers.\n",
    "A Min-Max scaling is typically done via the following equation:\n",
    "\n",
    "CODE:\n",
    "Let’s import MinMaxScalar from Scikit learn and apply it to our dataset.\n",
    "'''\n",
    "\n",
    "#Let’s import MinMaxScalar from Scikit learn and apply it to our dataset.\n",
    "from sklearn.preprocessing import MinMaxScaler\n",
    "scaler = MinMaxScaler() \n",
    "data_scaled2 = scaler.fit_transform(input_data)\n",
    "\n",
    "print(\"Mean_removed2 =\", data_scaled2.mean(axis=0))\n",
    "print(\"Stddeviation_removed2 =\", data_scaled2.std(axis=0))\n",
    "\n",
    "'''\n",
    "After MinMaxScaling, the distributions are not centered at zero and the standard deviation is not 1.\n",
    "\n",
    "But the minimum and maximum values are standardized across variables, different from what occurs with standardization.\n",
    "'''\n",
    "\n",
    "print('Min values (Data Set): ', data_scaled2.min(axis=0))\n",
    "print('Max values (Data Set): ', data_scaled2.max(axis=0))"
   ]
  },
  {
   "cell_type": "code",
   "execution_count": 44,
   "metadata": {},
   "outputs": [
    {
     "name": "stdout",
     "output_type": "stream",
     "text": [
      "\n",
      "Min max scaled data:\n",
      " [[0.48648649 0.58252427 0.99122807]\n",
      " [0.         1.         0.81578947]\n",
      " [0.27027027 0.         1.        ]\n",
      " [1.         0.99029126 0.        ]]\n"
     ]
    }
   ],
   "source": [
    "'''\n",
    "Scaling\n",
    "We use this preprocessing technique for scaling the feature vectors. Scaling of feature vectors is important, because the features should not be synthetically large or small.\n",
    "\n",
    "Example\n",
    "'''\n",
    "import numpy as np\n",
    "from sklearn import preprocessing\n",
    "Input_data = np.array(\n",
    "   [\n",
    "      [2.1, -1.9, 5.5],\n",
    "      [-1.5, 2.4, 3.5],\n",
    "      [0.5, -7.9, 5.6],\n",
    "      [5.9, 2.3, -5.8]\n",
    "   ]\n",
    ")\n",
    "data_scaler_minmax = preprocessing.MinMaxScaler(feature_range=(0,1))\n",
    "data_scaled_minmax = data_scaler_minmax.fit_transform(input_data)\n",
    "print (\"\\nMin max scaled data:\\n\", data_scaled_minmax)\n"
   ]
  },
  {
   "cell_type": "code",
   "execution_count": 42,
   "metadata": {},
   "outputs": [
    {
     "name": "stdout",
     "output_type": "stream",
     "text": [
      "Mean_removed3 =):  [ 0.14754098 -0.25764192 -0.52873563]\n",
      "StdDeviation_removed3 = [0.88993899 0.73366344 1.07911386]\n",
      "Min values (Data Set):  [-0.91803279 -1.41484716 -2.36781609]\n",
      "Max values (Data Set):  [1.50819672 0.38427948 0.25287356]\n"
     ]
    }
   ],
   "source": [
    "'''\n",
    "Robust Scalar (Scaling to median and quantiles) :\n",
    "-------------------------------------------------------------\n",
    "Scaling using median and quantiles consists of subtracting the median to all the observations and then dividing by the interquartile difference. It Scales features using statistics that are robust to outliers.\n",
    "\n",
    "The interquartile difference is the difference between the 75th and 25th quantile:\n",
    "IQR = 75th quantile — 25th quantile\n",
    "\n",
    "The equation to calculate scaled values:\n",
    "X_scaled = (X — X.median) / IQR\n",
    "\n",
    "CODE:\n",
    "First, Import RobustScalar from Scikit learn.\n",
    "'''\n",
    "\n",
    "from sklearn.preprocessing import RobustScaler\n",
    "scaler = RobustScaler() \n",
    "data_scaled3 = scaler.fit_transform(input_data)\n",
    "\n",
    "#As you can see, the distributions are not centered in zero and the standard deviation is not 1.\n",
    "print('Mean_removed3 =): ', data_scaled3.mean(axis=0))\n",
    "print('StdDeviation_removed3 =', data_scaled3.std(axis=0))\n",
    "\n",
    "#Neither are the minimum and maximum values set to a certain upper and lower boundaries like in the MinMaxScaler.\n",
    "print('Min values (Data Set): ', data_scaled3.min(axis=0))\n",
    "print('Max values (Data Set): ', data_scaled3.max(axis=0))"
   ]
  },
  {
   "cell_type": "code",
   "execution_count": 45,
   "metadata": {},
   "outputs": [
    {
     "name": "stdout",
     "output_type": "stream",
     "text": [
      "\n",
      "L1 normalized data:\n",
      " [[ 0.22105263 -0.2         0.57894737]\n",
      " [-0.2027027   0.32432432  0.47297297]\n",
      " [ 0.03571429 -0.56428571  0.4       ]\n",
      " [ 0.42142857  0.16428571 -0.41428571]]\n"
     ]
    }
   ],
   "source": [
    "'''\n",
    "Normalisation:\n",
    "---------------\n",
    "We use this preprocessing technique for modifying the feature vectors. \n",
    "Normalisation of feature vectors is necessary so that the feature vectors can be measured at common scale. \n",
    "There are two types of normalisation as follows −\n",
    "\n",
    ">>>L1 Normalisation:\n",
    "It is also called Least Absolute Deviations. \n",
    "It modifies the value in such a manner that the sum of the absolute values remains always up to 1 in each row. \n",
    "Following example shows the implementation of L1 normalisation on input data.\n",
    "\n",
    "Example\n",
    "'''\n",
    "import numpy as np\n",
    "from sklearn import preprocessing\n",
    "Input_data = np.array(\n",
    "   [\n",
    "      [2.1, -1.9, 5.5],\n",
    "      [-1.5, 2.4, 3.5],\n",
    "      [0.5, -7.9, 5.6],\n",
    "      [5.9, 2.3, -5.8]\n",
    "   ]\n",
    ")\n",
    "data_normalized_l1 = preprocessing.normalize(input_data, norm='l1')\n",
    "print(\"\\nL1 normalized data:\\n\", data_normalized_l1)\n"
   ]
  },
  {
   "cell_type": "code",
   "execution_count": 47,
   "metadata": {},
   "outputs": [
    {
     "name": "stdout",
     "output_type": "stream",
     "text": [
      "\n",
      "L2 normalized data:\n",
      " [[ 0.33946114 -0.30713151  0.88906489]\n",
      " [-0.33325106  0.53320169  0.7775858 ]\n",
      " [ 0.05156558 -0.81473612  0.57753446]\n",
      " [ 0.68706914  0.26784051 -0.6754239 ]]\n"
     ]
    }
   ],
   "source": [
    "'''\n",
    ">>>L2 Normalisation:\n",
    "Also called Least Squares. \n",
    "It modifies the value in such a manner that the sum of the squares remains always up to 1 in each row. \n",
    "Following example shows the implementation of L2 normalisation on input data.\n",
    "\n",
    "Example\n",
    "'''\n",
    "import numpy as np\n",
    "from sklearn import preprocessing\n",
    "Input_data = np.array(\n",
    "   [\n",
    "      [2.1, -1.9, 5.5],\n",
    "      [-1.5, 2.4, 3.5],\n",
    "      [0.5, -7.9, 5.6],\n",
    "      [5.9, 2.3, -5.8]\n",
    "   ]\n",
    ")\n",
    "data_normalized_l2 = preprocessing.normalize(input_data, norm='l2')\n",
    "print(\"\\nL2 normalized data:\\n\", data_normalized_l2)\n"
   ]
  },
  {
   "cell_type": "code",
   "execution_count": 50,
   "metadata": {},
   "outputs": [
    {
     "name": "stdout",
     "output_type": "stream",
     "text": [
      "\n",
      "Iris X Shape: (150, 4)\n",
      "\n",
      "Iris y Shape: (150,)\n"
     ]
    }
   ],
   "source": [
    "'''\n",
    "Steps in using Estimator API:\n",
    "===============================\n",
    "Followings are the steps in using the Scikit-Learn estimator API −\n",
    "\n",
    "Step 1: Choose a class of model\n",
    "In this first step, we need to choose a class of model. It can be done by importing the appropriate Estimator class from Scikit-learn.\n",
    "\n",
    "Step 2: Choose model hyperparameters\n",
    "In this step, we need to choose class model hyperparameters. It can be done by instantiating the class with desired values.\n",
    "\n",
    "Step 3: Arranging the data\n",
    "Next, we need to arrange the data into features matrix (X) and target vector(y).\n",
    "\n",
    "Step 4: Model Fitting\n",
    "Now, we need to fit the model to your data. It can be done by calling fit() method of the model instance.\n",
    "\n",
    "Step 5: Applying the model\n",
    "After fitting the model, we can apply it to new data. For supervised learning, use predict() method to predict the labels for unknown data. While for unsupervised learning, use predict() or transform() to infer properties of the data.\n",
    "\n",
    "Supervised Learning Example\n",
    "Here, as an example of this process we are taking common case of fitting a line to (x,y) data i.e. simple linear regression.\n",
    "\n",
    "First, we need to load the dataset, we are using iris dataset −\n",
    "\n",
    "Example\n",
    "'''\n",
    "import seaborn as sns\n",
    "iris = sns.load_dataset('iris')\n",
    "\n",
    "X_iris = iris.drop('species', axis = 1)\n",
    "X_iris.shape\n",
    "\n",
    "y_iris = iris['species']\n",
    "y_iris.shape\n",
    "\n",
    "print(\"\\nIris X Shape:\", X_iris.shape)\n",
    "print(\"\\nIris y Shape:\", y_iris.shape)"
   ]
  },
  {
   "cell_type": "code",
   "execution_count": 52,
   "metadata": {},
   "outputs": [
    {
     "data": {
      "text/plain": [
       "<matplotlib.collections.PathCollection at 0x25312bc1d88>"
      ]
     },
     "execution_count": 52,
     "metadata": {},
     "output_type": "execute_result"
    },
    {
     "data": {
      "image/png": "[encoded data removed]",
      "text/plain": [
       "<Figure size 432x288 with 1 Axes>"
      ]
     },
     "metadata": {
      "needs_background": "light"
     },
     "output_type": "display_data"
    }
   ],
   "source": [
    "'''\n",
    "Choose a class of model:\n",
    "-----------------------\n",
    "Here, to compute a simple linear regression model, we need to import the linear regression class as follows −\n",
    "\n",
    "from sklearn.linear_model import LinearRegression\n",
    "\n",
    "Choose model hyperparameters:\n",
    "-----------------------------\n",
    "Once we choose a class of model, we need to make some important choices which are often represented as hyperparameters, \n",
    "or the parameters that must set before the model is fit to data. Here, for this example of linear regression, \n",
    "we would like to fit the intercept by using the fit_intercept hyperparameter as follows −\n",
    "\n",
    "Example\n",
    "\n",
    "model = LinearRegression(fit_intercept = True)\n",
    "model\n",
    "Output\n",
    "\n",
    "LinearRegression(copy_X = True, fit_intercept = True, n_jobs = None, normalize = False)\n",
    "\n",
    "Arranging the data:\n",
    "---------------------\n",
    "Now, as we know that our target variable y is in correct form i.e. a length n_samples array of 1-D. \n",
    "But, we need to reshape the feature matrix X to make it a matrix of size [n_samples, n_features]. It can be done as follows −\n",
    "\n",
    "Example\n",
    "\n",
    "X = x[:, np.newaxis]\n",
    "X.shape\n",
    "Output\n",
    "\n",
    "(40, 1)\n",
    "\n",
    "Model fitting:\n",
    "------------------\n",
    "Once, we arrange the data, it is time to fit the model i.e. to apply our model to data. \n",
    "This can be done with the help of fit() method as follows −\n",
    "\n",
    "Example\n",
    "\n",
    "model.fit(X, y)\n",
    "Output\n",
    "\n",
    "LinearRegression(copy_X = True, fit_intercept = True, n_jobs = None,normalize = False)\n",
    "\n",
    "In Scikit-learn, the fit() process have some trailing underscores.\n",
    "--------------------------------------------------------------------\n",
    "For this example, the below parameter shows the slope of the simple linear fit of the data −\n",
    "\n",
    "Example\n",
    "\n",
    "model.coef_\n",
    "Output\n",
    "\n",
    "array([1.99839352])\n",
    "The below parameter represents the intercept of the simple linear fit to the data −\n",
    "\n",
    "Example\n",
    "\n",
    "model.intercept_\n",
    "Output\n",
    "\n",
    "-0.9895459457775022\n",
    "\n",
    "Applying the model to new data:\n",
    "------------------------------------------------\n",
    "After training the model, we can apply it to new data. \n",
    "As the main task of supervised machine learning is to evaluate the model based on new data that is not the part of the training set. \n",
    "It can be done with the help of predict() method as follows −\n",
    "\n",
    "Example\n",
    "\n",
    "xfit = np.linspace(-1, 11)\n",
    "Xfit = xfit[:, np.newaxis]\n",
    "yfit = model.predict(Xfit)\n",
    "plt.scatter(x, y)\n",
    "plt.plot(xfit, yfit);\n",
    "Output\n",
    "\n",
    "Model New Data\n",
    "'''\n",
    "\n",
    "%matplotlib inline\n",
    "import matplotlib.pyplot as plt\n",
    "import numpy as np\n",
    "import seaborn as sns\n",
    "\n",
    "iris = sns.load_dataset('iris')\n",
    "X_iris = iris.drop('species', axis = 1)\n",
    "X_iris.shape\n",
    "y_iris = iris['species']\n",
    "y_iris.shape\n",
    "\n",
    "rng = np.random.RandomState(35)\n",
    "x = 10*rng.rand(40)\n",
    "y = 2*x-1+rng.randn(40)\n",
    "plt.scatter(x,y);\n",
    "\n",
    "from sklearn.linear_model import LinearRegression\n",
    "model = LinearRegression(fit_intercept=True)\n",
    "model\n",
    "X = x[:, np.newaxis]\n",
    "X.shape\n",
    "\n",
    "model.fit(X, y)\n",
    "model.coef_\n",
    "model.intercept_\n",
    "\n",
    "xfit = np.linspace(-1, 11)\n",
    "Xfit = xfit[:, np.newaxis]\n",
    "yfit = model.predict(Xfit)\n"
   ]
  },
  {
   "cell_type": "code",
   "execution_count": 55,
   "metadata": {},
   "outputs": [
    {
     "data": {
      "text/plain": [
       "[<matplotlib.lines.Line2D at 0x25312815d08>]"
      ]
     },
     "execution_count": 55,
     "metadata": {},
     "output_type": "execute_result"
    },
    {
     "data": {
      "image/png": "[encoded data removed]",
      "text/plain": [
       "<Figure size 432x288 with 1 Axes>"
      ]
     },
     "metadata": {
      "needs_background": "light"
     },
     "output_type": "display_data"
    }
   ],
   "source": [
    "plt.plot(xfit, yfit)"
   ]
  },
  {
   "cell_type": "code",
   "execution_count": 56,
   "metadata": {},
   "outputs": [
    {
     "data": {
      "text/plain": [
       "[<matplotlib.lines.Line2D at 0x25312b0a248>]"
      ]
     },
     "execution_count": 56,
     "metadata": {},
     "output_type": "execute_result"
    },
    {
     "data": {
      "image/png": "[encoded data removed]",
      "text/plain": [
       "<Figure size 432x288 with 1 Axes>"
      ]
     },
     "metadata": {
      "needs_background": "light"
     },
     "output_type": "display_data"
    }
   ],
   "source": [
    "plt.scatter(x, y)\n",
    "plt.plot(xfit, yfit)"
   ]
  },
  {
   "cell_type": "code",
   "execution_count": 57,
   "metadata": {},
   "outputs": [
    {
     "data": {
      "image/png": "[encoded data removed]",
      "text/plain": [
       "<Figure size 432x288 with 1 Axes>"
      ]
     },
     "metadata": {
      "needs_background": "light"
     },
     "output_type": "display_data"
    },
    {
     "data": {
      "image/png": "[encoded data removed]",
      "text/plain": [
       "<Figure size 444.75x360 with 1 Axes>"
      ]
     },
     "metadata": {
      "needs_background": "light"
     },
     "output_type": "display_data"
    }
   ],
   "source": [
    "'''\n",
    "Unsupervised Learning Example:\n",
    "-----------------------------------\n",
    "Here, as an example of this process we are taking common case of reducing the dimensionality of the Iris dataset so that we can visualize it more easily. For this example, we are going to use principal component analysis (PCA), a fast-linear dimensionality reduction technique.\n",
    "\n",
    "Like the above given example, we can load and plot the random data from iris dataset. After that we can follow the steps as below −\n",
    "\n",
    "Choose a class of model\n",
    "from sklearn.decomposition import PCA\n",
    "Choose model hyperparameters\n",
    "Example\n",
    "\n",
    "model = PCA(n_components=2)\n",
    "model\n",
    "Output\n",
    "\n",
    "PCA(copy = True, iterated_power = 'auto', n_components = 2, random_state = None,\n",
    "   svd_solver = 'auto', tol = 0.0, whiten = False)\n",
    "Model fitting\n",
    "Example\n",
    "\n",
    "model.fit(X_iris)\n",
    "Output\n",
    "\n",
    "PCA(copy = True, iterated_power = 'auto', n_components = 2, random_state = None,\n",
    "   svd_solver = 'auto', tol = 0.0, whiten = False)\n",
    "Transform the data to two-dimensional\n",
    "Example\n",
    "\n",
    "X_2D = model.transform(X_iris)\n",
    "Now, we can plot the result as follows −\n",
    "\n",
    "Output\n",
    "\n",
    "iris['PCA1'] = X_2D[:, 0]\n",
    "iris['PCA2'] = X_2D[:, 1]\n",
    "sns.lmplot(\"PCA1\", \"PCA2\", hue = 'species', data = iris, fit_reg = False);\n",
    "Output\n",
    "\n",
    "two dimensional\n",
    "Complete working/executable example\n",
    "'''\n",
    "\n",
    "%matplotlib inline\n",
    "import matplotlib.pyplot as plt\n",
    "import numpy as np\n",
    "import seaborn as sns\n",
    "\n",
    "iris = sns.load_dataset('iris')\n",
    "X_iris = iris.drop('species', axis = 1)\n",
    "X_iris.shape\n",
    "y_iris = iris['species']\n",
    "y_iris.shape\n",
    "\n",
    "rng = np.random.RandomState(35)\n",
    "x = 10*rng.rand(40)\n",
    "y = 2*x-1+rng.randn(40)\n",
    "plt.scatter(x,y);\n",
    "\n",
    "from sklearn.decomposition import PCA\n",
    "model = PCA(n_components=2)\n",
    "model\n",
    "\n",
    "model.fit(X_iris)\n",
    "X_2D = model.transform(X_iris)\n",
    "iris['PCA1'] = X_2D[:, 0]\n",
    "iris['PCA2'] = X_2D[:, 1]\n",
    "\n",
    "sns.lmplot(\"PCA1\", \"PCA2\", hue='species', data=iris, fit_reg=False);"
   ]
  },
  {
   "cell_type": "code",
   "execution_count": null,
   "metadata": {},
   "outputs": [],
   "source": []
  }
 ],
 "metadata": {
  "kernelspec": {
   "display_name": "Python 3",
   "language": "python",
   "name": "python3"
  },
  "language_info": {
   "codemirror_mode": {
    "name": "ipython",
    "version": 3
   },
   "file_extension": ".py",
   "mimetype": "text/x-python",
   "name": "python",
   "nbconvert_exporter": "python",
   "pygments_lexer": "ipython3",
   "version": "3.7.4"
  }
 },
 "nbformat": 4,
 "nbformat_minor": 2
}
