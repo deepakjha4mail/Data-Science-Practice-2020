{
 "cells": [
  {
   "cell_type": "code",
   "execution_count": 1,
   "metadata": {},
   "outputs": [
    {
     "data": {
      "text/plain": [
       "'\\nWhat is SciPy?\\nSciPy is an open-source Python library which is used to solve scientific and mathematical problems. It is built on the NumPy extension and allows the user to manipulate and visualize data with a wide range of high-level commands. As mentioned earlier, SciPy builds on NumPy and therefore if you import SciPy, there is no need to import NumPy.\\n\\nNumPy vs SciPy\\nBoth NumPy and SciPy are Python libraries used for used mathematical and numerical analysis. NumPy contains array data and basic operations such as sorting, indexing, etc whereas, SciPy consists of all the numerical code. Though NumPy provides a number of functions that can help resolve linear algebra, Fourier transforms, etc, SciPy is the library that actually contains fully-featured versions of these functions along with many others. However, if you are doing scientific analysis using Python, you will need to install both NumPy and SciPy since SciPy builds on NumPy.\\n\\nSubpackages in SciPy:\\nSciPy has a number of subpackages for various scientific computations which are shown in the following table:\\n\\nName\\tDescription\\n--------------------\\ncluster\\tClustering algorithms\\nconstants\\tPhysical and mathematical constants\\nfftpack\\tFast Fourier Transform routines\\nintegrate\\tIntegration and ordinary differential equation solvers\\ninterpolate\\tInterpolation and smoothing splines\\nio\\tInput and Output\\nlinalg\\tLinear algebra\\nndimage\\tN-dimensional image processing\\nodr\\tOrthogonal distance regression\\noptimize\\tOptimization and root-finding routines\\nsignal\\tSignal processing\\nsparse\\tSparse matrices and associated routines\\nspatial\\tSpatial data structures and algorithms\\nspecial\\tSpecial functions\\nstats\\tStatistical distributions and functions\\nHowever, for a detailed description, you can follow the official documentation.\\n\\n'"
      ]
     },
     "execution_count": 1,
     "metadata": {},
     "output_type": "execute_result"
    }
   ],
   "source": [
    "# LEARNING SCIPY\n",
    "#-----------------\n",
    "\n",
    "'''\n",
    "What is SciPy?\n",
    "SciPy is an open-source Python library which is used to solve scientific and mathematical problems. It is built on the NumPy extension and allows the user to manipulate and visualize data with a wide range of high-level commands. As mentioned earlier, SciPy builds on NumPy and therefore if you import SciPy, there is no need to import NumPy.\n",
    "\n",
    "NumPy vs SciPy\n",
    "Both NumPy and SciPy are Python libraries used for used mathematical and numerical analysis. NumPy contains array data and basic operations such as sorting, indexing, etc whereas, SciPy consists of all the numerical code. Though NumPy provides a number of functions that can help resolve linear algebra, Fourier transforms, etc, SciPy is the library that actually contains fully-featured versions of these functions along with many others. However, if you are doing scientific analysis using Python, you will need to install both NumPy and SciPy since SciPy builds on NumPy.\n",
    "\n",
    "Subpackages in SciPy:\n",
    "SciPy has a number of subpackages for various scientific computations which are shown in the following table:\n",
    "\n",
    "Name\tDescription\n",
    "--------------------\n",
    "cluster\tClustering algorithms\n",
    "constants\tPhysical and mathematical constants\n",
    "fftpack\tFast Fourier Transform routines\n",
    "integrate\tIntegration and ordinary differential equation solvers\n",
    "interpolate\tInterpolation and smoothing splines\n",
    "io\tInput and Output\n",
    "linalg\tLinear algebra\n",
    "ndimage\tN-dimensional image processing\n",
    "odr\tOrthogonal distance regression\n",
    "optimize\tOptimization and root-finding routines\n",
    "signal\tSignal processing\n",
    "sparse\tSparse matrices and associated routines\n",
    "spatial\tSpatial data structures and algorithms\n",
    "special\tSpecial functions\n",
    "stats\tStatistical distributions and functions\n",
    "However, for a detailed description, you can follow the official documentation.\n",
    "\n",
    "'''\n"
   ]
  },
  {
   "cell_type": "code",
   "execution_count": 2,
   "metadata": {},
   "outputs": [],
   "source": [
    "#These packages need to be imported exclusively prior to using them. For example:\n",
    "\n",
    "import scipy\n"
   ]
  },
  {
   "cell_type": "code",
   "execution_count": 3,
   "metadata": {},
   "outputs": [
    {
     "name": "stdout",
     "output_type": "stream",
     "text": [
      "Help on package scipy.cluster in scipy:\n",
      "\n",
      "NAME\n",
      "    scipy.cluster\n",
      "\n",
      "DESCRIPTION\n",
      "    =========================================\n",
      "    Clustering package (:mod:`scipy.cluster`)\n",
      "    =========================================\n",
      "    \n",
      "    .. currentmodule:: scipy.cluster\n",
      "    \n",
      "    :mod:`scipy.cluster.vq`\n",
      "    \n",
      "    Clustering algorithms are useful in information theory, target detection,\n",
      "    communications, compression, and other areas.  The `vq` module only\n",
      "    supports vector quantization and the k-means algorithms.\n",
      "    \n",
      "    :mod:`scipy.cluster.hierarchy`\n",
      "    \n",
      "    The `hierarchy` module provides functions for hierarchical and\n",
      "    agglomerative clustering.  Its features include generating hierarchical\n",
      "    clusters from distance matrices,\n",
      "    calculating statistics on clusters, cutting linkages\n",
      "    to generate flat clusters, and visualizing clusters with dendrograms.\n",
      "\n",
      "PACKAGE CONTENTS\n",
      "    _hierarchy\n",
      "    _optimal_leaf_ordering\n",
      "    _vq\n",
      "    hierarchy\n",
      "    setup\n",
      "    tests (package)\n",
      "    vq\n",
      "\n",
      "DATA\n",
      "    __all__ = ['vq', 'hierarchy']\n",
      "\n",
      "FILE\n",
      "    c:\\programdata\\anaconda3\\lib\\site-packages\\scipy\\cluster\\__init__.py\n",
      "\n",
      "\n"
     ]
    }
   ],
   "source": [
    "from scipy import cluster\n",
    "\n",
    "help(cluster)               #with parameter\n",
    "\n",
    "#help()                       #without parameter"
   ]
  },
  {
   "cell_type": "code",
   "execution_count": 4,
   "metadata": {},
   "outputs": [
    {
     "name": "stdout",
     "output_type": "stream",
     "text": [
      "=========================================\n",
      "Clustering package (:mod:`scipy.cluster`)\n",
      "=========================================\n",
      "\n",
      ".. currentmodule:: scipy.cluster\n",
      "\n",
      ":mod:`scipy.cluster.vq`\n",
      "\n",
      "Clustering algorithms are useful in information theory, target detection,\n",
      "communications, compression, and other areas.  The `vq` module only\n",
      "supports vector quantization and the k-means algorithms.\n",
      "\n",
      ":mod:`scipy.cluster.hierarchy`\n",
      "\n",
      "The `hierarchy` module provides functions for hierarchical and\n",
      "agglomerative clustering.  Its features include generating hierarchical\n",
      "clusters from distance matrices,\n",
      "calculating statistics on clusters, cutting linkages\n",
      "to generate flat clusters, and visualizing clusters with dendrograms.\n"
     ]
    }
   ],
   "source": [
    "#This function returns information about the desired functions, modules, etc.\n",
    "\n",
    "scipy.info(cluster)"
   ]
  },
  {
   "cell_type": "code",
   "execution_count": 6,
   "metadata": {},
   "outputs": [
    {
     "data": {
      "text/plain": [
       "1000.0"
      ]
     },
     "execution_count": 6,
     "metadata": {},
     "output_type": "execute_result"
    }
   ],
   "source": [
    "from scipy import special\n",
    "a = special.exp10(3)\n",
    "a\n"
   ]
  },
  {
   "cell_type": "code",
   "execution_count": 7,
   "metadata": {},
   "outputs": [
    {
     "data": {
      "text/plain": [
       "1.0"
      ]
     },
     "execution_count": 7,
     "metadata": {},
     "output_type": "execute_result"
    }
   ],
   "source": [
    "c = special.sindg(90)\n",
    "c"
   ]
  },
  {
   "cell_type": "code",
   "execution_count": 8,
   "metadata": {},
   "outputs": [
    {
     "data": {
      "text/plain": [
       "0.7071067811865475"
      ]
     },
     "execution_count": 8,
     "metadata": {},
     "output_type": "execute_result"
    }
   ],
   "source": [
    "d = special.cosdg(45)\n",
    "d"
   ]
  },
  {
   "cell_type": "code",
   "execution_count": 9,
   "metadata": {},
   "outputs": [
    {
     "data": {
      "text/plain": [
       "(3.9086503371292665, 4.3394735994897923e-14)"
      ]
     },
     "execution_count": 9,
     "metadata": {},
     "output_type": "execute_result"
    }
   ],
   "source": [
    "from scipy import special\n",
    "from scipy import integrate\n",
    "a= lambda x:special.exp10(x)\n",
    "b = scipy.integrate.quad(a, 0, 1)\n",
    "\n",
    "b"
   ]
  },
  {
   "cell_type": "code",
   "execution_count": 10,
   "metadata": {},
   "outputs": [
    {
     "data": {
      "text/plain": [
       "(-1.3333333333333335, 1.4802973661668755e-14)"
      ]
     },
     "execution_count": 10,
     "metadata": {},
     "output_type": "execute_result"
    }
   ],
   "source": [
    "#Double Integral Function:\n",
    "\n",
    "#SciPy provides dblquad that can be used to calculate double integrals. \n",
    "#A double integral, as many of us know, consists of two real variables. \n",
    "#The dblquad() function will take the function to be integrated as its parameter along with 4 other variables \n",
    "#which define the limits and the functions dy and dx.\n",
    "\n",
    "from scipy import integrate\n",
    "a = lambda y, x: x*y**2\n",
    "b = lambda x: 1\n",
    "c = lambda x: -1\n",
    "integrate.dblquad(a, 0, 2, b, c)"
   ]
  },
  {
   "cell_type": "code",
   "execution_count": 11,
   "metadata": {},
   "outputs": [
    {
     "data": {
      "text/plain": [
       "7371.0399999999945"
      ]
     },
     "execution_count": 11,
     "metadata": {},
     "output_type": "execute_result"
    }
   ],
   "source": [
    "#Rosenbrook Function:\n",
    "\n",
    "#Rosenbrook function (rosen) is a test problem used for gradient-based optimization algorithms. \n",
    "#It is defined as follows in SciPy:\n",
    "\n",
    "import numpy as np\n",
    "from scipy.optimize import rosen\n",
    "a = 1.2 * np.arange(5)\n",
    "rosen(a)"
   ]
  },
  {
   "cell_type": "code",
   "execution_count": null,
   "metadata": {},
   "outputs": [],
   "source": [
    "    "
   ]
  }
 ],
 "metadata": {
  "kernelspec": {
   "display_name": "Python 3",
   "language": "python",
   "name": "python3"
  },
  "language_info": {
   "codemirror_mode": {
    "name": "ipython",
    "version": 3
   },
   "file_extension": ".py",
   "mimetype": "text/x-python",
   "name": "python",
   "nbconvert_exporter": "python",
   "pygments_lexer": "ipython3",
   "version": "3.7.4"
  }
 },
 "nbformat": 4,
 "nbformat_minor": 2
}
